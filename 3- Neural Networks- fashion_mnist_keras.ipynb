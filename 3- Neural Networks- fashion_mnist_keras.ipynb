{
  "nbformat": 4,
  "nbformat_minor": 0,
  "metadata": {
    "colab": {
      "name": "fashion_mnist_keras.ipynb",
      "version": "0.3.2",
      "provenance": [],
      "collapsed_sections": []
    },
    "kernelspec": {
      "name": "python3",
      "display_name": "Python 3"
    },
    "accelerator": "GPU"
  },
  "cells": [
    {
      "cell_type": "markdown",
      "metadata": {
        "id": "r2NPAI4jZZgi",
        "colab_type": "text"
      },
      "source": [
        "# Modern Deep Learning: \n",
        "# Classify Fashion-MNIST with a simple CNN in Keras\n",
        "\n",
        "<br> By Margaret Maynard-Reid, 4/24/2018\n",
        "\n",
        "![alt text](https://github.com/margaretmz/deep-learning/blob/master/images/modern%20dl_fash-mnist_keras.png?raw=1)"
      ]
    },
    {
      "cell_type": "markdown",
      "metadata": {
        "id": "18xLQCydFHqi",
        "colab_type": "text"
      },
      "source": [
        "## Why Jupyter Notebook?\n",
        "\n",
        "\n",
        "*   Interactive programming in the web browser\n",
        "*   Great for visualization\n",
        "*   Great for collabration\n",
        "*   Popular tool for studying machine learning / deep learning\n",
        "\n",
        "\n"
      ]
    },
    {
      "cell_type": "markdown",
      "metadata": {
        "id": "XLMRPLVCFwEc",
        "colab_type": "text"
      },
      "source": [
        "## Why Fashion-MNIST?\n",
        "\n",
        "\n",
        "*   MNIST is too easy\n",
        "*   MNIST is overused\n",
        "*   MNIST can not represent modern Computer Vision tasks\n",
        "\n",
        "Read more about the Fashion-MINST dataset in this paper [here](https://arxiv.org/abs/1708.07747) (**Fashion-MNIST: a Novel Image Dataset for Benchmarking Machine Learning Algorithms**)\n",
        "\n"
      ]
    },
    {
      "cell_type": "markdown",
      "metadata": {
        "id": "Ixyte299ZZgk",
        "colab_type": "text"
      },
      "source": [
        "## Notebook Overview\n",
        "\n",
        "<br> **Notebook location on github**: https://github.com/margaretmz/deep-learning/blob/master/fashion_mnist_keras.ipynb\n",
        "\n",
        "This is a tutorial of how to classify **fashion_mnist** data with a simple **Convolutional Neural Network** in Keras. \n",
        "Keras is now part of the core TensorFlow library, in addition to being an independent open source project. \n",
        "\n",
        "The [fashion_mnist](https://github.com/zalandoresearch/fashion-mnist) data: \n",
        "60,000 train and 10,000 test data with 10 categories. Each gray-scale image is 28x28.\n",
        "\n",
        "<br> **Label**\t**Description**\n",
        "<br> 0 T-shirt/top\n",
        "<br> 1 Trouser\n",
        "<br> 2 Pullover\n",
        "<br> 3 Dress\n",
        "<br> 4 Coat\n",
        "<br> 5 Sandal\n",
        "<br> 6 Shirt\n",
        "<br> 7 Sneaker\n",
        "<br> 8 Bag\n",
        "<br> 9 Ankle boot\n",
        "\n",
        "Each gray-scale image is 28x28"
      ]
    },
    {
      "cell_type": "markdown",
      "metadata": {
        "id": "1jQGPl2l7kF7",
        "colab_type": "toc"
      },
      "source": [
        ">[Modern Deep Learning:](#scrollTo=r2NPAI4jZZgi)\n",
        "\n",
        ">[Classify Fashion-MNIST with a simple CNN in Keras](#scrollTo=r2NPAI4jZZgi)\n",
        "\n",
        ">>[Why Jupyter Notebook?](#scrollTo=18xLQCydFHqi)\n",
        "\n",
        ">>[Why Fashion-MNIST?](#scrollTo=XLMRPLVCFwEc)\n",
        "\n",
        ">>[Notebook Overview](#scrollTo=Ixyte299ZZgk)\n",
        "\n",
        ">>[Download the fashion_mnist data](#scrollTo=LbCigZtNZZgl)\n",
        "\n",
        ">>[Visualize the data](#scrollTo=tWORMSC8FDR4)\n",
        "\n",
        ">>[Data normalization](#scrollTo=Zx-Ee6LHZZgt)\n",
        "\n",
        ">>[Split the data into train/validation/test data sets](#scrollTo=CFlNHktHBtru)\n",
        "\n",
        ">>[Create the model architecture](#scrollTo=HhalcO03ZZg3)\n",
        "\n",
        ">>[Compile the model](#scrollTo=FhxJ5dinZZg8)\n",
        "\n",
        ">>[Train the model](#scrollTo=DtOvh3YVZZg_)\n",
        "\n",
        ">>[Load Model with the best validation accuracy](#scrollTo=e-MGLwZQy05d)\n",
        "\n",
        ">>[Test Accuracy](#scrollTo=9RTRkan4yq5H)\n",
        "\n",
        ">>[Visualize prediction](#scrollTo=oJv7XEk10bOv)\n",
        "\n",
        ">>[Congragulations!](#scrollTo=8AehWdRAVKN5)\n",
        "\n"
      ]
    },
    {
      "cell_type": "markdown",
      "metadata": {
        "id": "LbCigZtNZZgl",
        "colab_type": "text"
      },
      "source": [
        "## Download the fashion_mnist data\n",
        "We download fashion-mnist which is one of the Keras datasets. "
      ]
    },
    {
      "cell_type": "code",
      "metadata": {
        "id": "d44TznbgZZgm",
        "colab_type": "code",
        "outputId": "f07145f7-7b67-4e2c-f398-6dbc9a4bdb83",
        "colab": {
          "base_uri": "https://localhost:8080/",
          "height": 181
        }
      },
      "source": [
        "import tensorflow as tf\n",
        "\n",
        "import numpy as np\n",
        "import matplotlib.pyplot as plt\n",
        "\n",
        "# Load the fashion-mnist pre-shuffled train data and test data\n",
        "(x_train, y_train), (x_test, y_test) = tf.keras.datasets.fashion_mnist.load_data()\n",
        "\n",
        "print(\"x_train shape:\", x_train.shape, \"y_train shape:\", y_train.shape)"
      ],
      "execution_count": 1,
      "outputs": [
        {
          "output_type": "stream",
          "text": [
            "Downloading data from https://storage.googleapis.com/tensorflow/tf-keras-datasets/train-labels-idx1-ubyte.gz\n",
            "32768/29515 [=================================] - 0s 0us/step\n",
            "Downloading data from https://storage.googleapis.com/tensorflow/tf-keras-datasets/train-images-idx3-ubyte.gz\n",
            "26427392/26421880 [==============================] - 0s 0us/step\n",
            "Downloading data from https://storage.googleapis.com/tensorflow/tf-keras-datasets/t10k-labels-idx1-ubyte.gz\n",
            "8192/5148 [===============================================] - 0s 0us/step\n",
            "Downloading data from https://storage.googleapis.com/tensorflow/tf-keras-datasets/t10k-images-idx3-ubyte.gz\n",
            "4423680/4422102 [==============================] - 0s 0us/step\n",
            "x_train shape: (60000, 28, 28) y_train shape: (60000,)\n"
          ],
          "name": "stdout"
        }
      ]
    },
    {
      "cell_type": "markdown",
      "metadata": {
        "id": "tWORMSC8FDR4",
        "colab_type": "text"
      },
      "source": [
        "## Visualize the data"
      ]
    },
    {
      "cell_type": "code",
      "metadata": {
        "id": "aFe4wHGRFKle",
        "colab_type": "code",
        "outputId": "cb4a1391-8e0a-4f84-d43f-5743c902ce1c",
        "colab": {
          "base_uri": "https://localhost:8080/",
          "height": 360
        }
      },
      "source": [
        "# Print training set shape - note there are 60,000 training data of image size of 28x28, 60,000 train labels)\n",
        "print(\"x_train shape:\", x_train.shape, \"y_train shape:\", y_train.shape)\n",
        "\n",
        "# Print the number of training and test datasets\n",
        "print(x_train.shape[0], 'train set')\n",
        "print(x_test.shape[0], 'test set')\n",
        "\n",
        "# Define the text labels\n",
        "fashion_mnist_labels = [\"T-shirt/top\",  # index 0\n",
        "                        \"Trouser\",      # index 1\n",
        "                        \"Pullover\",     # index 2 \n",
        "                        \"Dress\",        # index 3 \n",
        "                        \"Coat\",         # index 4\n",
        "                        \"Sandal\",       # index 5\n",
        "                        \"Shirt\",        # index 6 \n",
        "                        \"Sneaker\",      # index 7 \n",
        "                        \"Bag\",          # index 8 \n",
        "                        \"Ankle boot\"]   # index 9\n",
        "\n",
        "# Image index, you can pick any number between 0 and 59,999\n",
        "img_index = 5\n",
        "# y_train contains the lables, ranging from 0 to 9\n",
        "label_index = y_train[img_index]\n",
        "# Print the label, for example 2 Pullover\n",
        "print (\"y = \" + str(label_index) + \" \" +(fashion_mnist_labels[label_index]))\n",
        "# # Show one of the images from the training dataset\n",
        "plt.imshow(x_train[img_index])"
      ],
      "execution_count": 2,
      "outputs": [
        {
          "output_type": "stream",
          "text": [
            "x_train shape: (60000, 28, 28) y_train shape: (60000,)\n",
            "60000 train set\n",
            "10000 test set\n",
            "y = 2 Pullover\n"
          ],
          "name": "stdout"
        },
        {
          "output_type": "execute_result",
          "data": {
            "text/plain": [
              "<matplotlib.image.AxesImage at 0x7f826c770b38>"
            ]
          },
          "metadata": {
            "tags": []
          },
          "execution_count": 2
        },
        {
          "output_type": "display_data",
          "data": {
            "image/png": "[encoded data removed]",
            "text/plain": [
              "<Figure size 432x288 with 1 Axes>"
            ]
          },
          "metadata": {
            "tags": []
          }
        }
      ]
    },
    {
      "cell_type": "markdown",
      "metadata": {
        "id": "Zx-Ee6LHZZgt",
        "colab_type": "text"
      },
      "source": [
        "## Data normalization\n",
        "Normalize the data dimensions so that they are of approximately the same scale."
      ]
    },
    {
      "cell_type": "code",
      "metadata": {
        "id": "XNh5NIckZZgu",
        "colab_type": "code",
        "colab": {}
      },
      "source": [
        "x_train = x_train.astype('float32') / 255\n",
        "x_test = x_test.astype('float32') / 255"
      ],
      "execution_count": 0,
      "outputs": []
    },
    {
      "cell_type": "code",
      "metadata": {
        "id": "LMSg53fiZZgx",
        "colab_type": "code",
        "outputId": "aec8faf5-0fa4-4fe8-cf28-c633aecd4725",
        "colab": {
          "base_uri": "https://localhost:8080/",
          "height": 54
        }
      },
      "source": [
        "print(\"Number of train data - \" + str(len(x_train)))\n",
        "print(\"Number of test data - \" + str(len(x_test)))"
      ],
      "execution_count": 4,
      "outputs": [
        {
          "output_type": "stream",
          "text": [
            "Number of train data - 60000\n",
            "Number of test data - 10000\n"
          ],
          "name": "stdout"
        }
      ]
    },
    {
      "cell_type": "markdown",
      "metadata": {
        "id": "CFlNHktHBtru",
        "colab_type": "text"
      },
      "source": [
        "## Split the data into train/validation/test data sets\n",
        "\n",
        "\n",
        "*   Training data - used for training the model\n",
        "*   Validation data - used for tuning the hyperparameters and evaluate the models\n",
        "*   Test data - used to test the model after the model has gone through initial vetting by the validation set.\n",
        "\n"
      ]
    },
    {
      "cell_type": "code",
      "metadata": {
        "id": "1ShU787gZZg0",
        "colab_type": "code",
        "outputId": "0bd1e90b-8520-4904-bc9c-8de72f947aef",
        "colab": {
          "base_uri": "https://localhost:8080/",
          "height": 90
        }
      },
      "source": [
        "# Further break training data into train / validation sets (# put 5000 into validation set and keep remaining 55,000 for train)\n",
        "(x_train, x_valid) = x_train[5000:], x_train[:5000] \n",
        "(y_train, y_valid) = y_train[5000:], y_train[:5000]\n",
        "\n",
        "# Reshape input data from (28, 28) to (28, 28, 1)\n",
        "w, h = 28, 28\n",
        "x_train = x_train.reshape(x_train.shape[0], w, h, 1)\n",
        "x_valid = x_valid.reshape(x_valid.shape[0], w, h, 1)\n",
        "x_test = x_test.reshape(x_test.shape[0], w, h, 1)\n",
        "\n",
        "# One-hot encode the labels\n",
        "y_train = tf.keras.utils.to_categorical(y_train, 10)\n",
        "y_valid = tf.keras.utils.to_categorical(y_valid, 10)\n",
        "y_test = tf.keras.utils.to_categorical(y_test, 10)\n",
        "\n",
        "# Print training set shape\n",
        "print(\"x_train shape:\", x_train.shape, \"y_train shape:\", y_train.shape)\n",
        "\n",
        "# Print the number of training, validation, and test datasets\n",
        "print(x_train.shape[0], 'train set')\n",
        "print(x_valid.shape[0], 'validation set')\n",
        "print(x_test.shape[0], 'test set')"
      ],
      "execution_count": 5,
      "outputs": [
        {
          "output_type": "stream",
          "text": [
            "x_train shape: (55000, 28, 28, 1) y_train shape: (55000, 10)\n",
            "55000 train set\n",
            "5000 validation set\n",
            "10000 test set\n"
          ],
          "name": "stdout"
        }
      ]
    },
    {
      "cell_type": "markdown",
      "metadata": {
        "id": "HhalcO03ZZg3",
        "colab_type": "text"
      },
      "source": [
        "## Create the model architecture\n",
        "\n",
        "There are two APIs for defining a model in Keras:\n",
        "1. [Sequential model API](https://keras.io/models/sequential/)\n",
        "2. [Functional API](https://keras.io/models/model/)\n",
        "\n",
        "In this notebook we are using the Sequential model API. \n",
        "If you are interested in a tutorial using the Functional API, checkout Sara Robinson's blog [Predicting the price of wine with the Keras Functional API and TensorFlow](https://medium.com/tensorflow/predicting-the-price-of-wine-with-the-keras-functional-api-and-tensorflow-a95d1c2c1b03).\n",
        "\n",
        "In defining the model we will be using some of these Keras APIs:\n",
        "*   Conv2D() [link text](https://www.tensorflow.org/api_docs/python/tf/keras/layers/Conv2D/) - create a convolutional layer \n",
        "*   Pooling() [link text](https://keras.io/layers/pooling/) - create a pooling layer \n",
        "*   Dropout() [link text](https://www.tensorflow.org/api_docs/python/tf/keras/layers/Dropout) - apply drop out "
      ]
    },
    {
      "cell_type": "code",
      "metadata": {
        "id": "QgTZ47SsZZg4",
        "colab_type": "code",
        "outputId": "44b729ea-0a05-48e1-a3d4-263b3fd38f7c",
        "colab": {
          "base_uri": "https://localhost:8080/",
          "height": 619
        }
      },
      "source": [
        "model = tf.keras.Sequential()\n",
        "\n",
        "# Must define the input shape in the first layer of the neural network\n",
        "model.add(tf.keras.layers.Conv2D(filters=64, kernel_size=2, padding='same', activation='relu', input_shape=(28,28,1))) \n",
        "model.add(tf.keras.layers.MaxPooling2D(pool_size=2))\n",
        "model.add(tf.keras.layers.Dropout(0.3))\n",
        "\n",
        "model.add(tf.keras.layers.Conv2D(filters=32, kernel_size=2, padding='same', activation='relu'))\n",
        "model.add(tf.keras.layers.MaxPooling2D(pool_size=2))\n",
        "model.add(tf.keras.layers.Dropout(0.3))\n",
        "\n",
        "model.add(tf.keras.layers.Flatten())\n",
        "model.add(tf.keras.layers.Dense(256, activation='relu'))\n",
        "model.add(tf.keras.layers.Dropout(0.5))\n",
        "model.add(tf.keras.layers.Dense(10, activation='softmax'))\n",
        "\n",
        "# Take a look at the model summary\n",
        "model.summary()"
      ],
      "execution_count": 6,
      "outputs": [
        {
          "output_type": "stream",
          "text": [
            "WARNING: Logging before flag parsing goes to stderr.\n",
            "W0623 03:27:45.055329 140199372846976 deprecation.py:506] From /usr/local/lib/python3.6/dist-packages/tensorflow/python/ops/init_ops.py:1251: calling VarianceScaling.__init__ (from tensorflow.python.ops.init_ops) with dtype is deprecated and will be removed in a future version.\n",
            "Instructions for updating:\n",
            "Call initializer instance with the dtype argument instead of passing it to the constructor\n"
          ],
          "name": "stderr"
        },
        {
          "output_type": "stream",
          "text": [
            "Model: \"sequential\"\n",
            "_________________________________________________________________\n",
            "Layer (type)                 Output Shape              Param #   \n",
            "=================================================================\n",
            "conv2d (Conv2D)              (None, 28, 28, 64)        320       \n",
            "_________________________________________________________________\n",
            "max_pooling2d (MaxPooling2D) (None, 14, 14, 64)        0         \n",
            "_________________________________________________________________\n",
            "dropout (Dropout)            (None, 14, 14, 64)        0         \n",
            "_________________________________________________________________\n",
            "conv2d_1 (Conv2D)            (None, 14, 14, 32)        8224      \n",
            "_________________________________________________________________\n",
            "max_pooling2d_1 (MaxPooling2 (None, 7, 7, 32)          0         \n",
            "_________________________________________________________________\n",
            "dropout_1 (Dropout)          (None, 7, 7, 32)          0         \n",
            "_________________________________________________________________\n",
            "flatten (Flatten)            (None, 1568)              0         \n",
            "_________________________________________________________________\n",
            "dense (Dense)                (None, 256)               401664    \n",
            "_________________________________________________________________\n",
            "dropout_2 (Dropout)          (None, 256)               0         \n",
            "_________________________________________________________________\n",
            "dense_1 (Dense)              (None, 10)                2570      \n",
            "=================================================================\n",
            "Total params: 412,778\n",
            "Trainable params: 412,778\n",
            "Non-trainable params: 0\n",
            "_________________________________________________________________\n"
          ],
          "name": "stdout"
        }
      ]
    },
    {
      "cell_type": "markdown",
      "metadata": {
        "id": "FhxJ5dinZZg8",
        "colab_type": "text"
      },
      "source": [
        "## Compile the model\n",
        "Configure the learning process with compile() API before training the model. It receives three arguments:\n",
        "\n",
        "*   An optimizer \n",
        "*   A loss function \n",
        "*   A list of metrics \n"
      ]
    },
    {
      "cell_type": "code",
      "metadata": {
        "id": "CQUlOa8cZZg9",
        "colab_type": "code",
        "colab": {
          "base_uri": "https://localhost:8080/",
          "height": 35
        },
        "outputId": "e5cc8098-6466-4fff-eaa6-f2e1644355be"
      },
      "source": [
        "model.compile(loss='categorical_crossentropy',\n",
        "             optimizer='adam',\n",
        "             metrics=['accuracy'])\n",
        "\"\"\"\"\"\"\"\"\"model.compile(loss='categorical_crossentropy',\n",
        "             optimizer='sgd',\n",
        "             metrics=['accuracy'])\"\"\""
      ],
      "execution_count": 7,
      "outputs": [
        {
          "output_type": "execute_result",
          "data": {
            "text/plain": [
              "\"model.compile(loss='categorical_crossentropy',\\n             optimizer='sgd',\\n             metrics=['accuracy'])\""
            ]
          },
          "metadata": {
            "tags": []
          },
          "execution_count": 7
        }
      ]
    },
    {
      "cell_type": "markdown",
      "metadata": {
        "id": "DtOvh3YVZZg_",
        "colab_type": "text"
      },
      "source": [
        "## Train the model\n",
        "\n",
        "Now let's train the model with fit() API.\n",
        "\n",
        "We use  the [ModelCheckpoint](https://keras.io/callbacks/#modelcheckpoint) API to save the model after every epoch. Set \"save_best_only = True\" to save only when the validation accuracy improves.\n"
      ]
    },
    {
      "cell_type": "code",
      "metadata": {
        "id": "ZTmapAttZZhA",
        "colab_type": "code",
        "outputId": "64ccd823-f53b-46f6-bcaa-e8fa3ea1acc6",
        "colab": {
          "base_uri": "https://localhost:8080/",
          "height": 435
        }
      },
      "source": [
        "from keras.callbacks import ModelCheckpoint\n",
        "\n",
        "model.fit(x_train,\n",
        "         y_train,\n",
        "         batch_size=64,\n",
        "         epochs=10,\n",
        "         validation_data=(x_valid, y_valid))"
      ],
      "execution_count": 8,
      "outputs": [
        {
          "output_type": "stream",
          "text": [
            "Using TensorFlow backend.\n"
          ],
          "name": "stderr"
        },
        {
          "output_type": "stream",
          "text": [
            "Train on 55000 samples, validate on 5000 samples\n",
            "Epoch 1/10\n",
            "55000/55000 [==============================] - 8s 152us/sample - loss: 0.6090 - acc: 0.7756 - val_loss: 0.3894 - val_acc: 0.8572\n",
            "Epoch 2/10\n",
            "55000/55000 [==============================] - 4s 78us/sample - loss: 0.4167 - acc: 0.8495 - val_loss: 0.3327 - val_acc: 0.8804\n",
            "Epoch 3/10\n",
            "55000/55000 [==============================] - 4s 78us/sample - loss: 0.3713 - acc: 0.8654 - val_loss: 0.2909 - val_acc: 0.8946\n",
            "Epoch 4/10\n",
            "55000/55000 [==============================] - 4s 78us/sample - loss: 0.3433 - acc: 0.8752 - val_loss: 0.2759 - val_acc: 0.8982\n",
            "Epoch 5/10\n",
            "55000/55000 [==============================] - 4s 78us/sample - loss: 0.3235 - acc: 0.8829 - val_loss: 0.2653 - val_acc: 0.9014\n",
            "Epoch 6/10\n",
            "55000/55000 [==============================] - 4s 76us/sample - loss: 0.3081 - acc: 0.8871 - val_loss: 0.2514 - val_acc: 0.9068\n",
            "Epoch 7/10\n",
            "55000/55000 [==============================] - 4s 77us/sample - loss: 0.2963 - acc: 0.8909 - val_loss: 0.2436 - val_acc: 0.9098\n",
            "Epoch 8/10\n",
            "55000/55000 [==============================] - 4s 77us/sample - loss: 0.2876 - acc: 0.8952 - val_loss: 0.2382 - val_acc: 0.9132\n",
            "Epoch 9/10\n",
            "55000/55000 [==============================] - 4s 78us/sample - loss: 0.2769 - acc: 0.8975 - val_loss: 0.2257 - val_acc: 0.9174\n",
            "Epoch 10/10\n",
            "55000/55000 [==============================] - 4s 77us/sample - loss: 0.2690 - acc: 0.9011 - val_loss: 0.2277 - val_acc: 0.9114\n"
          ],
          "name": "stdout"
        },
        {
          "output_type": "execute_result",
          "data": {
            "text/plain": [
              "<tensorflow.python.keras.callbacks.History at 0x7f82691ea748>"
            ]
          },
          "metadata": {
            "tags": []
          },
          "execution_count": 8
        }
      ]
    },
    {
      "cell_type": "markdown",
      "metadata": {
        "id": "e-MGLwZQy05d",
        "colab_type": "text"
      },
      "source": [
        "## Load Model with the best validation accuracy"
      ]
    },
    {
      "cell_type": "markdown",
      "metadata": {
        "id": "9RTRkan4yq5H",
        "colab_type": "text"
      },
      "source": [
        "## Test Accuracy"
      ]
    },
    {
      "cell_type": "code",
      "metadata": {
        "id": "VZtqBqFFy62R",
        "colab_type": "code",
        "outputId": "bdee8fe8-cb65-4cbe-e078-243e0d736acf",
        "colab": {
          "base_uri": "https://localhost:8080/",
          "height": 54
        }
      },
      "source": [
        "# Evaluate the model on test set\n",
        "score = model.evaluate(x_test, y_test, verbose=0)\n",
        "\n",
        "# Print test accuracy\n",
        "print('\\n', 'Test accuracy:', score[1])"
      ],
      "execution_count": 9,
      "outputs": [
        {
          "output_type": "stream",
          "text": [
            "\n",
            " Test accuracy: 0.9078\n"
          ],
          "name": "stdout"
        }
      ]
    },
    {
      "cell_type": "markdown",
      "metadata": {
        "id": "oJv7XEk10bOv",
        "colab_type": "text"
      },
      "source": [
        "## Visualize prediction\n",
        "Now let's visualize the prediction using the model you just trained. \n",
        "First we get the predictions with the model from the test data.\n",
        "Then we print out 15 images from the test data set, and set the titles with the prediction (and the groud truth label).\n",
        "If the prediction matches the true label, the title will be green; otherwise it's displayed in red."
      ]
    },
    {
      "cell_type": "code",
      "metadata": {
        "id": "QwNmlfIC0YxM",
        "colab_type": "code",
        "outputId": "7244064c-16a3-4161-e71a-a136b34d5974",
        "colab": {
          "base_uri": "https://localhost:8080/",
          "height": 485
        }
      },
      "source": [
        "y_hat = model.predict(x_test)\n",
        "\n",
        "# Plot a random sample of 10 test images, their predicted labels and ground truth\n",
        "figure = plt.figure(figsize=(20, 8))\n",
        "for i, index in enumerate(np.random.choice(x_test.shape[0], size=15, replace=False)):\n",
        "    ax = figure.add_subplot(3, 5, i + 1, xticks=[], yticks=[])\n",
        "    # Display each image\n",
        "    ax.imshow(np.squeeze(x_test[index]))\n",
        "    predict_index = np.argmax(y_hat[index])\n",
        "    true_index = np.argmax(y_test[index])\n",
        "    # Set the title for each image\n",
        "    ax.set_title(\"{} ({})\".format(fashion_mnist_labels[predict_index], \n",
        "                                  fashion_mnist_labels[true_index]),\n",
        "                                  color=(\"green\" if predict_index == true_index else \"red\"))"
      ],
      "execution_count": 10,
      "outputs": [
        {
          "output_type": "display_data",
          "data": {
            "image/png": "[encoded data removed]",
            "text/plain": [
              "<Figure size 1440x576 with 15 Axes>"
            ]
          },
          "metadata": {
            "tags": []
          }
        }
      ]
    },
    {
      "cell_type": "markdown",
      "metadata": {
        "id": "8AehWdRAVKN5",
        "colab_type": "text"
      },
      "source": [
        "## Congragulations! \n",
        "You have successfully trained a CNN to classify fashion-MNIST with near 90% accuracy."
      ]
    }
  ]
}